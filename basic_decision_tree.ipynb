{
 "cells": [
  {
   "cell_type": "code",
   "execution_count": 1,
   "outputs": [],
   "source": [
    "import numpy as np\n",
    "\n",
    "from models_utils import *\n",
    "data = np.array([[-4, -4, 0], [-3, -3, 0], [-2, -2, 0], [-1, -1, 0], [1, 1, 0], [2, 2, 0], [3, 3, 0],\n",
    "                [1, -1, 1], [2, -2, 1], [3, -3, 3], [-1, 1, 1], [-2, 2, 1], [-3, 3, 1]])"
   ],
   "metadata": {
    "collapsed": false,
    "pycharm": {
     "name": "#%%\n"
    }
   }
  },
  {
   "cell_type": "code",
   "execution_count": 7,
   "outputs": [],
   "source": [
    "tree = decision_tree_helper(np.array(data))"
   ],
   "metadata": {
    "collapsed": false,
    "pycharm": {
     "name": "#%%\n"
    }
   }
  },
  {
   "cell_type": "code",
   "execution_count": 8,
   "outputs": [
    {
     "data": {
      "text/plain": "0"
     },
     "execution_count": 8,
     "metadata": {},
     "output_type": "execute_result"
    }
   ],
   "source": [
    "classify_example(np.array([7, 2]), tree)"
   ],
   "metadata": {
    "collapsed": false,
    "pycharm": {
     "name": "#%%\n"
    }
   }
  },
  {
   "cell_type": "code",
   "execution_count": 9,
   "outputs": [
    {
     "data": {
      "text/plain": "1"
     },
     "execution_count": 9,
     "metadata": {},
     "output_type": "execute_result"
    }
   ],
   "source": [
    "classify_example(np.array([-5, 3]), tree)"
   ],
   "metadata": {
    "collapsed": false,
    "pycharm": {
     "name": "#%%\n"
    }
   }
  },
  {
   "cell_type": "code",
   "execution_count": 2,
   "outputs": [
    {
     "name": "stdout",
     "output_type": "stream",
     "text": [
      "Number train examples: 24000 \n",
      "Number validation examples: 3000 \n",
      "Number of test examples: 3000 \n"
     ]
    }
   ],
   "source": [
    "from dataset import *\n",
    "import pandas as pd\n",
    "dataset = load_dataset('taiwan_credit_risk', train_prop=0.8, valid_prop=0.1)\n",
    "\n",
    "df = pd.DataFrame(dataset.X_train)\n",
    "df['y'] = dataset.y_train\n",
    "\n",
    "data = df.to_numpy()"
   ],
   "metadata": {
    "collapsed": false,
    "pycharm": {
     "name": "#%%\n"
    }
   }
  },
  {
   "cell_type": "code",
   "execution_count": null,
   "outputs": [
    {
     "name": "stdout",
     "output_type": "stream",
     "text": [
      "(24000, 25)\n",
      "finding splits for (24000, 25)\n",
      "Determining best split for (24000, 25)\n",
      "column index: 0\n",
      "overall entropy: 0.5285379259917974\n",
      "column index: 1\n",
      "column index: 2\n",
      "column index: 3\n",
      "column index: 4\n",
      "column index: 5\n",
      "column index: 6\n",
      "column index: 7\n",
      "column index: 8\n",
      "column index: 9\n",
      "column index: 10\n",
      "column index: 11\n",
      "column index: 12\n",
      "column index: 13\n",
      "column index: 14\n",
      "column index: 15\n",
      "column index: 16\n"
     ]
    }
   ],
   "source": [
    "main_tree = decision_tree_helper(data)"
   ],
   "metadata": {
    "collapsed": false,
    "pycharm": {
     "name": "#%%\n",
     "is_executing": true
    }
   }
  }
 ],
 "metadata": {
  "kernelspec": {
   "display_name": "Python 3",
   "language": "python",
   "name": "python3"
  },
  "language_info": {
   "codemirror_mode": {
    "name": "ipython",
    "version": 2
   },
   "file_extension": ".py",
   "mimetype": "text/x-python",
   "name": "python",
   "nbconvert_exporter": "python",
   "pygments_lexer": "ipython2",
   "version": "2.7.6"
  }
 },
 "nbformat": 4,
 "nbformat_minor": 0
}